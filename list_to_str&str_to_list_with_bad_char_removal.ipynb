{
  "nbformat": 4,
  "nbformat_minor": 0,
  "metadata": {
    "colab": {
      "provenance": [],
      "authorship_tag": "ABX9TyOldl3ZfjWapk7oJ6FdyjVY",
      "include_colab_link": true
    },
    "kernelspec": {
      "name": "python3",
      "display_name": "Python 3"
    },
    "language_info": {
      "name": "python"
    }
  },
  "cells": [
    {
      "cell_type": "markdown",
      "metadata": {
        "id": "view-in-github",
        "colab_type": "text"
      },
      "source": [
        "<a href=\"https://colab.research.google.com/github/rabiyulfahimhasim786/pandas/blob/main/list_to_str%26str_to_list_with_bad_char_removal.ipynb\" target=\"_parent\"><img src=\"https://colab.research.google.com/assets/colab-badge.svg\" alt=\"Open In Colab\"/></a>"
      ]
    },
    {
      "cell_type": "markdown",
      "source": [
        "**Pandas bad character removal from string**"
      ],
      "metadata": {
        "id": "aLHC0s5IEMGP"
      }
    },
    {
      "cell_type": "markdown",
      "source": [
        "**ocr data formatting string bad characters removal**\n",
        "\n",
        "**bad charecter removing from string - Statically**"
      ],
      "metadata": {
        "id": "Td3CY5L0EGKY"
      }
    },
    {
      "cell_type": "code",
      "execution_count": null,
      "metadata": {
        "colab": {
          "base_uri": "https://localhost:8080/"
        },
        "id": "AHgP2k0fDuNk",
        "outputId": "20fee49d-cda3-42d2-8438-062af7dcb440"
      },
      "outputs": [
        {
          "output_type": "stream",
          "name": "stdout",
          "text": [
            "String before conversion:  [],spe@#$ci87al*&\n",
            "string after conversion: special\n"
          ]
        }
      ],
      "source": [
        "# String with special characters\n",
        "special_string=\"[],spe@#$ci87al*&\"\n",
        "print(\"String before conversion: \",special_string)\n",
        "# A list of special_characters to be removed\n",
        "special_characters=['@','#','$','*','&', '8', '7', '[', ']', ',']\n",
        "normal_string=special_string\n",
        "for i in special_characters:\n",
        "# Replace the special character with an empty string\n",
        "    normal_string=normal_string.replace(i,\"\")\n",
        "# Print the string after the removal of special characters\n",
        "print(\"string after conversion:\",normal_string)"
      ]
    },
    {
      "cell_type": "code",
      "source": [
        "# reading by column names\n",
        "import pandas as pd\n",
        "\n",
        "dataset = pd.read_csv(\"text.csv\")\n",
        "dataset"
      ],
      "metadata": {
        "colab": {
          "base_uri": "https://localhost:8080/",
          "height": 112
        },
        "id": "1GfIYK9qESn4",
        "outputId": "ba39faff-885f-419e-bb8b-39c7364bd243"
      },
      "execution_count": null,
      "outputs": [
        {
          "output_type": "execute_result",
          "data": {
            "text/plain": [
              "   Unnamed: 0  PageNo                                               Text\n",
              "0           0  page_1  ['Notice', 'CP140', 'Department of the Treasur...\n",
              "1           1  page_2  ['Notice', 'CP140', 'Department of the Treasur..."
            ],
            "text/html": [
              "\n",
              "  <div id=\"df-d7293930-a7d4-41ee-a5d2-4f271ca9036e\">\n",
              "    <div class=\"colab-df-container\">\n",
              "      <div>\n",
              "<style scoped>\n",
              "    .dataframe tbody tr th:only-of-type {\n",
              "        vertical-align: middle;\n",
              "    }\n",
              "\n",
              "    .dataframe tbody tr th {\n",
              "        vertical-align: top;\n",
              "    }\n",
              "\n",
              "    .dataframe thead th {\n",
              "        text-align: right;\n",
              "    }\n",
              "</style>\n",
              "<table border=\"1\" class=\"dataframe\">\n",
              "  <thead>\n",
              "    <tr style=\"text-align: right;\">\n",
              "      <th></th>\n",
              "      <th>Unnamed: 0</th>\n",
              "      <th>PageNo</th>\n",
              "      <th>Text</th>\n",
              "    </tr>\n",
              "  </thead>\n",
              "  <tbody>\n",
              "    <tr>\n",
              "      <th>0</th>\n",
              "      <td>0</td>\n",
              "      <td>page_1</td>\n",
              "      <td>['Notice', 'CP140', 'Department of the Treasur...</td>\n",
              "    </tr>\n",
              "    <tr>\n",
              "      <th>1</th>\n",
              "      <td>1</td>\n",
              "      <td>page_2</td>\n",
              "      <td>['Notice', 'CP140', 'Department of the Treasur...</td>\n",
              "    </tr>\n",
              "  </tbody>\n",
              "</table>\n",
              "</div>\n",
              "      <button class=\"colab-df-convert\" onclick=\"convertToInteractive('df-d7293930-a7d4-41ee-a5d2-4f271ca9036e')\"\n",
              "              title=\"Convert this dataframe to an interactive table.\"\n",
              "              style=\"display:none;\">\n",
              "        \n",
              "  <svg xmlns=\"http://www.w3.org/2000/svg\" height=\"24px\"viewBox=\"0 0 24 24\"\n",
              "       width=\"24px\">\n",
              "    <path d=\"M0 0h24v24H0V0z\" fill=\"none\"/>\n",
              "    <path d=\"M18.56 5.44l.94 2.06.94-2.06 2.06-.94-2.06-.94-.94-2.06-.94 2.06-2.06.94zm-11 1L8.5 8.5l.94-2.06 2.06-.94-2.06-.94L8.5 2.5l-.94 2.06-2.06.94zm10 10l.94 2.06.94-2.06 2.06-.94-2.06-.94-.94-2.06-.94 2.06-2.06.94z\"/><path d=\"M17.41 7.96l-1.37-1.37c-.4-.4-.92-.59-1.43-.59-.52 0-1.04.2-1.43.59L10.3 9.45l-7.72 7.72c-.78.78-.78 2.05 0 2.83L4 21.41c.39.39.9.59 1.41.59.51 0 1.02-.2 1.41-.59l7.78-7.78 2.81-2.81c.8-.78.8-2.07 0-2.86zM5.41 20L4 18.59l7.72-7.72 1.47 1.35L5.41 20z\"/>\n",
              "  </svg>\n",
              "      </button>\n",
              "      \n",
              "  <style>\n",
              "    .colab-df-container {\n",
              "      display:flex;\n",
              "      flex-wrap:wrap;\n",
              "      gap: 12px;\n",
              "    }\n",
              "\n",
              "    .colab-df-convert {\n",
              "      background-color: #E8F0FE;\n",
              "      border: none;\n",
              "      border-radius: 50%;\n",
              "      cursor: pointer;\n",
              "      display: none;\n",
              "      fill: #1967D2;\n",
              "      height: 32px;\n",
              "      padding: 0 0 0 0;\n",
              "      width: 32px;\n",
              "    }\n",
              "\n",
              "    .colab-df-convert:hover {\n",
              "      background-color: #E2EBFA;\n",
              "      box-shadow: 0px 1px 2px rgba(60, 64, 67, 0.3), 0px 1px 3px 1px rgba(60, 64, 67, 0.15);\n",
              "      fill: #174EA6;\n",
              "    }\n",
              "\n",
              "    [theme=dark] .colab-df-convert {\n",
              "      background-color: #3B4455;\n",
              "      fill: #D2E3FC;\n",
              "    }\n",
              "\n",
              "    [theme=dark] .colab-df-convert:hover {\n",
              "      background-color: #434B5C;\n",
              "      box-shadow: 0px 1px 3px 1px rgba(0, 0, 0, 0.15);\n",
              "      filter: drop-shadow(0px 1px 2px rgba(0, 0, 0, 0.3));\n",
              "      fill: #FFFFFF;\n",
              "    }\n",
              "  </style>\n",
              "\n",
              "      <script>\n",
              "        const buttonEl =\n",
              "          document.querySelector('#df-d7293930-a7d4-41ee-a5d2-4f271ca9036e button.colab-df-convert');\n",
              "        buttonEl.style.display =\n",
              "          google.colab.kernel.accessAllowed ? 'block' : 'none';\n",
              "\n",
              "        async function convertToInteractive(key) {\n",
              "          const element = document.querySelector('#df-d7293930-a7d4-41ee-a5d2-4f271ca9036e');\n",
              "          const dataTable =\n",
              "            await google.colab.kernel.invokeFunction('convertToInteractive',\n",
              "                                                     [key], {});\n",
              "          if (!dataTable) return;\n",
              "\n",
              "          const docLinkHtml = 'Like what you see? Visit the ' +\n",
              "            '<a target=\"_blank\" href=https://colab.research.google.com/notebooks/data_table.ipynb>data table notebook</a>'\n",
              "            + ' to learn more about interactive tables.';\n",
              "          element.innerHTML = '';\n",
              "          dataTable['output_type'] = 'display_data';\n",
              "          await google.colab.output.renderOutput(dataTable, element);\n",
              "          const docLink = document.createElement('div');\n",
              "          docLink.innerHTML = docLinkHtml;\n",
              "          element.appendChild(docLink);\n",
              "        }\n",
              "      </script>\n",
              "    </div>\n",
              "  </div>\n",
              "  "
            ]
          },
          "metadata": {},
          "execution_count": 7
        }
      ]
    },
    {
      "cell_type": "code",
      "source": [
        "dataset['Text']\n",
        "print(dataset['Text'])\n",
        "var = dataset['Text']\n",
        "print(var)\n",
        "for x in var:\n",
        "  print(x)\n",
        "#type(x)"
      ],
      "metadata": {
        "colab": {
          "base_uri": "https://localhost:8080/"
        },
        "id": "m9YkUiIGEYZ-",
        "outputId": "4c490d15-b7b2-43a3-8056-ede45c39b7a3"
      },
      "execution_count": null,
      "outputs": [
        {
          "output_type": "stream",
          "name": "stdout",
          "text": [
            "0    ['Notice', 'CP140', 'Department of the Treasur...\n",
            "1    ['Notice', 'CP140', 'Department of the Treasur...\n",
            "Name: Text, dtype: object\n",
            "0    ['Notice', 'CP140', 'Department of the Treasur...\n",
            "1    ['Notice', 'CP140', 'Department of the Treasur...\n",
            "Name: Text, dtype: object\n",
            "['Notice', 'CP140', 'Department of the Treasury', 'Internal Revenue Service', 'Notice date', 'November 21, 2022', 'Kansas City, MO 64999-0010', 'Employer ID number', 'XX-XXX8584', 'IRS', 'Tax form', '941', 'Tax period', 'June 30, 2020', 'Taxpayer', '6399084080', '001398.275781.40507.20660 1 AB 0.491 371', 'authentication number', 'To contact us', 'Phone 844-875-3420', 'Page 1 of 1', 'DESSS INC', '26611 MAJESTIC RIDGE LN', 'KATY TX 77494-7357', '001398', 'We assigned your overdue tax account to a private collection agency', 'Current law requires us to contract with qualified', 'What happens next', 'private collection agencies to assist in collecting', 'certain overdue federal taxes. We have assigned', 'The private collection agency will work with you to resolve your overdue account. The', 'your account to the following agency:', 'private collection agency will explain payment options to help you find one that is best', \"for you. It also will provide you with a payment plan if you can't pay the full amount at\", 'COAST PROFESSIONAL, INC.', 'this time.', 'PO BOX 425', 'You can visit www.irs.gov/payments for more information about ways to pay. If paying', 'GENESEO, NY 14454', 'by check or money order, make the check or money order payable to the United States', '888-928-0510', 'Treasury. Include your employer identification number (EIN), tax period, and form', 'number on your payment and send it to the address on this notice. These are the only', \"forms of payment the IRS accepts. We'll never ask you to pay using any form of pre-\", 'paid card or store or online gift card.', 'The private collection agency is required to maintain the security and privacy of your', 'tax information. To do this, it will ask you to provide your name and address of record', 'before assisting you in resolving your account. Also, it will perform two-party', 'verification by asking you for the first five numbers of your taxpayer authentication', 'number at the top of this notice. The private collection agency will then provide the', 'subsequent five numbers.', \"Keep this notice for your records. You'll need information from it to complete the\", 'two-party verification.', 'See the enclosed Publication 4518, What You Can Expect When the IRS Assigns Your', 'Account to a Private Collection Agency, for more information.', 'Additional information', 'Visit www.irs.gov/cp140', 'You can also find the following online:', 'Publication 1, Your Rights as a Taxpayer', 'For tax forms or publications, visit www.irs.gov/forms-pubs or call', '800-TAX-FORM (800-829-3676).']\n",
            "['Notice', 'CP140', 'Department of the Treasury', 'Internal Revenue Service', 'Notice date', 'November 21, 2022', 'Kansas City, MO 64999-0010', 'Employer ID number', 'XX-XXX8584', 'IRS', 'Tax form', '941', 'Tax period', 'June 30, 2020', 'Taxpayer', '6399084080', '001398.275781.40507.20660 1 AB 0.491 371', 'authentication number', 'To contact us', 'Phone 844-875-3420', 'Page 1 of 1', 'DESSS INC', '26611 MAJESTIC RIDGE LN', 'KATY TX 77494-7357', '001398', 'We assigned your overdue tax account to a private collection agency', 'Current law requires us to contract with qualified', 'What happens next', 'private collection agencies to assist in collecting', 'certain overdue federal taxes. We have assigned', 'The private collection agency will work with you to resolve your overdue account. The', 'your account to the following agency:', 'private collection agency will explain payment options to help you find one that is best', \"for you. It also will provide you with a payment plan if you can't pay the full amount at\", 'COAST PROFESSIONAL, INC.', 'this time.', 'PO BOX 425', 'You can visit www.irs.gov/payments for more information about ways to pay. If paying', 'GENESEO, NY 14454', 'by check or money order, make the check or money order payable to the United States', '888-928-0510', 'Treasury. Include your employer identification number (EIN), tax period, and form', 'number on your payment and send it to the address on this notice. These are the only', \"forms of payment the IRS accepts. We'll never ask you to pay using any form of pre-\", 'paid card or store or online gift card.', 'The private collection agency is required to maintain the security and privacy of your', 'tax information. To do this, it will ask you to provide your name and address of record', 'before assisting you in resolving your account. Also, it will perform two-party', 'verification by asking you for the first five numbers of your taxpayer authentication', 'number at the top of this notice. The private collection agency will then provide the', 'subsequent five numbers.', \"Keep this notice for your records. You'll need information from it to complete the\", 'two-party verification.', 'See the enclosed Publication 4518, What You Can Expect When the IRS Assigns Your', 'Account to a Private Collection Agency, for more information.', 'Additional information', 'Visit www.irs.gov/cp140', 'You can also find the following online:', 'Publication 1, Your Rights as a Taxpayer', 'For tax forms or publications, visit www.irs.gov/forms-pubs or call', '800-TAX-FORM (800-829-3676).']\n"
          ]
        }
      ]
    },
    {
      "cell_type": "code",
      "source": [
        "# String with special characters\n",
        "#special_string=\"[],spe@#$ci87al*&\"\n",
        "special_string = x\n",
        "print(\"String before conversion: \",special_string)\n",
        "# A list of special_characters to be removed\n",
        "#special_characters=['@','#','$','*','&', '8', '7', '[', ']', ',']\n",
        "special_characters=['[', ']', \"'\", \"'\"]\n",
        "normal_string=special_string\n",
        "for i in special_characters:\n",
        "# Replace the special character with an empty string\n",
        "    normal_string=normal_string.replace(i,\"\")\n",
        "# Print the string after the removal of special characters\n",
        "print(\"string after conversion:\",normal_string)"
      ],
      "metadata": {
        "colab": {
          "base_uri": "https://localhost:8080/"
        },
        "id": "2rimm5BQEhLR",
        "outputId": "cc7ec1f1-0056-4768-f98b-54121c7bc3d2"
      },
      "execution_count": null,
      "outputs": [
        {
          "output_type": "stream",
          "name": "stdout",
          "text": [
            "String before conversion:  ['Notice', 'CP140', 'Department of the Treasury', 'Internal Revenue Service', 'Notice date', 'November 21, 2022', 'Kansas City, MO 64999-0010', 'Employer ID number', 'XX-XXX8584', 'IRS', 'Tax form', '941', 'Tax period', 'June 30, 2020', 'Taxpayer', '6399084080', '001398.275781.40507.20660 1 AB 0.491 371', 'authentication number', 'To contact us', 'Phone 844-875-3420', 'Page 1 of 1', 'DESSS INC', '26611 MAJESTIC RIDGE LN', 'KATY TX 77494-7357', '001398', 'We assigned your overdue tax account to a private collection agency', 'Current law requires us to contract with qualified', 'What happens next', 'private collection agencies to assist in collecting', 'certain overdue federal taxes. We have assigned', 'The private collection agency will work with you to resolve your overdue account. The', 'your account to the following agency:', 'private collection agency will explain payment options to help you find one that is best', \"for you. It also will provide you with a payment plan if you can't pay the full amount at\", 'COAST PROFESSIONAL, INC.', 'this time.', 'PO BOX 425', 'You can visit www.irs.gov/payments for more information about ways to pay. If paying', 'GENESEO, NY 14454', 'by check or money order, make the check or money order payable to the United States', '888-928-0510', 'Treasury. Include your employer identification number (EIN), tax period, and form', 'number on your payment and send it to the address on this notice. These are the only', \"forms of payment the IRS accepts. We'll never ask you to pay using any form of pre-\", 'paid card or store or online gift card.', 'The private collection agency is required to maintain the security and privacy of your', 'tax information. To do this, it will ask you to provide your name and address of record', 'before assisting you in resolving your account. Also, it will perform two-party', 'verification by asking you for the first five numbers of your taxpayer authentication', 'number at the top of this notice. The private collection agency will then provide the', 'subsequent five numbers.', \"Keep this notice for your records. You'll need information from it to complete the\", 'two-party verification.', 'See the enclosed Publication 4518, What You Can Expect When the IRS Assigns Your', 'Account to a Private Collection Agency, for more information.', 'Additional information', 'Visit www.irs.gov/cp140', 'You can also find the following online:', 'Publication 1, Your Rights as a Taxpayer', 'For tax forms or publications, visit www.irs.gov/forms-pubs or call', '800-TAX-FORM (800-829-3676).']\n",
            "string after conversion: Notice, CP140, Department of the Treasury, Internal Revenue Service, Notice date, November 21, 2022, Kansas City, MO 64999-0010, Employer ID number, XX-XXX8584, IRS, Tax form, 941, Tax period, June 30, 2020, Taxpayer, 6399084080, 001398.275781.40507.20660 1 AB 0.491 371, authentication number, To contact us, Phone 844-875-3420, Page 1 of 1, DESSS INC, 26611 MAJESTIC RIDGE LN, KATY TX 77494-7357, 001398, We assigned your overdue tax account to a private collection agency, Current law requires us to contract with qualified, What happens next, private collection agencies to assist in collecting, certain overdue federal taxes. We have assigned, The private collection agency will work with you to resolve your overdue account. The, your account to the following agency:, private collection agency will explain payment options to help you find one that is best, \"for you. It also will provide you with a payment plan if you cant pay the full amount at\", COAST PROFESSIONAL, INC., this time., PO BOX 425, You can visit www.irs.gov/payments for more information about ways to pay. If paying, GENESEO, NY 14454, by check or money order, make the check or money order payable to the United States, 888-928-0510, Treasury. Include your employer identification number (EIN), tax period, and form, number on your payment and send it to the address on this notice. These are the only, \"forms of payment the IRS accepts. Well never ask you to pay using any form of pre-\", paid card or store or online gift card., The private collection agency is required to maintain the security and privacy of your, tax information. To do this, it will ask you to provide your name and address of record, before assisting you in resolving your account. Also, it will perform two-party, verification by asking you for the first five numbers of your taxpayer authentication, number at the top of this notice. The private collection agency will then provide the, subsequent five numbers., \"Keep this notice for your records. Youll need information from it to complete the\", two-party verification., See the enclosed Publication 4518, What You Can Expect When the IRS Assigns Your, Account to a Private Collection Agency, for more information., Additional information, Visit www.irs.gov/cp140, You can also find the following online:, Publication 1, Your Rights as a Taxpayer, For tax forms or publications, visit www.irs.gov/forms-pubs or call, 800-TAX-FORM (800-829-3676).\n"
          ]
        }
      ]
    },
    {
      "cell_type": "markdown",
      "source": [
        "**bad charecter removing from string - Dynamically**\n",
        "\n",
        "**Suitable for database**"
      ],
      "metadata": {
        "id": "k-zpcKyVFNvp"
      }
    },
    {
      "cell_type": "code",
      "source": [
        "import pandas as pd\n",
        "\n",
        "# reading the csv file\n",
        "df = pd.read_csv(\"text.csv\")\n",
        "#print(df)\n",
        "var = df['Text']\n",
        "var\n",
        "print(var)\n",
        "for x in var:\n",
        "  print(x)\n",
        "\n",
        "# initializing bad_chars_list\n",
        "bad_chars = ['[', ']', \"'\", \"'\"]\n",
        "\n",
        "# initializing test string\n",
        "#test_string = \"Ge;ek*s:fo!r;Ge*e*k:s!\"\n",
        "\n",
        "# printing original string\n",
        "print(\"Original String : \" + x)\n",
        "\n",
        "# using filter() to\n",
        "# remove bad_chars\n",
        "test_string = ''.join((filter(lambda i: i not in bad_chars,\n",
        "\t\t\t\t\t\t\tx)))\n",
        "# printing resultant string\n",
        "print(\"Resultant list is : \" + str(test_string))\n",
        "print(str(test_string))\n",
        "# string ot list conversion\n",
        "def Convert(string):\n",
        "\tli = list(string.split(\",\"))\n",
        "\treturn li\n",
        "\n",
        "\n",
        "# Driver code\n",
        "#str1 = \"Geeks for Geeks\"\n",
        "#list converion\n",
        "print(Convert(str(test_string)))\n",
        "     "
      ],
      "metadata": {
        "colab": {
          "base_uri": "https://localhost:8080/"
        },
        "id": "YmwOGduREk2w",
        "outputId": "3c50c1dd-9a91-4f29-be42-789fc2e7f458"
      },
      "execution_count": null,
      "outputs": [
        {
          "output_type": "stream",
          "name": "stdout",
          "text": [
            "0    ['Notice', 'CP140', 'Department of the Treasur...\n",
            "1    ['Notice', 'CP140', 'Department of the Treasur...\n",
            "Name: Text, dtype: object\n",
            "['Notice', 'CP140', 'Department of the Treasury', 'Internal Revenue Service', 'Notice date', 'November 21, 2022', 'Kansas City, MO 64999-0010', 'Employer ID number', 'XX-XXX8584', 'IRS', 'Tax form', '941', 'Tax period', 'June 30, 2020', 'Taxpayer', '6399084080', '001398.275781.40507.20660 1 AB 0.491 371', 'authentication number', 'To contact us', 'Phone 844-875-3420', 'Page 1 of 1', 'DESSS INC', '26611 MAJESTIC RIDGE LN', 'KATY TX 77494-7357', '001398', 'We assigned your overdue tax account to a private collection agency', 'Current law requires us to contract with qualified', 'What happens next', 'private collection agencies to assist in collecting', 'certain overdue federal taxes. We have assigned', 'The private collection agency will work with you to resolve your overdue account. The', 'your account to the following agency:', 'private collection agency will explain payment options to help you find one that is best', \"for you. It also will provide you with a payment plan if you can't pay the full amount at\", 'COAST PROFESSIONAL, INC.', 'this time.', 'PO BOX 425', 'You can visit www.irs.gov/payments for more information about ways to pay. If paying', 'GENESEO, NY 14454', 'by check or money order, make the check or money order payable to the United States', '888-928-0510', 'Treasury. Include your employer identification number (EIN), tax period, and form', 'number on your payment and send it to the address on this notice. These are the only', \"forms of payment the IRS accepts. We'll never ask you to pay using any form of pre-\", 'paid card or store or online gift card.', 'The private collection agency is required to maintain the security and privacy of your', 'tax information. To do this, it will ask you to provide your name and address of record', 'before assisting you in resolving your account. Also, it will perform two-party', 'verification by asking you for the first five numbers of your taxpayer authentication', 'number at the top of this notice. The private collection agency will then provide the', 'subsequent five numbers.', \"Keep this notice for your records. You'll need information from it to complete the\", 'two-party verification.', 'See the enclosed Publication 4518, What You Can Expect When the IRS Assigns Your', 'Account to a Private Collection Agency, for more information.', 'Additional information', 'Visit www.irs.gov/cp140', 'You can also find the following online:', 'Publication 1, Your Rights as a Taxpayer', 'For tax forms or publications, visit www.irs.gov/forms-pubs or call', '800-TAX-FORM (800-829-3676).']\n",
            "['Notice', 'CP140', 'Department of the Treasury', 'Internal Revenue Service', 'Notice date', 'November 21, 2022', 'Kansas City, MO 64999-0010', 'Employer ID number', 'XX-XXX8584', 'IRS', 'Tax form', '941', 'Tax period', 'June 30, 2020', 'Taxpayer', '6399084080', '001398.275781.40507.20660 1 AB 0.491 371', 'authentication number', 'To contact us', 'Phone 844-875-3420', 'Page 1 of 1', 'DESSS INC', '26611 MAJESTIC RIDGE LN', 'KATY TX 77494-7357', '001398', 'We assigned your overdue tax account to a private collection agency', 'Current law requires us to contract with qualified', 'What happens next', 'private collection agencies to assist in collecting', 'certain overdue federal taxes. We have assigned', 'The private collection agency will work with you to resolve your overdue account. The', 'your account to the following agency:', 'private collection agency will explain payment options to help you find one that is best', \"for you. It also will provide you with a payment plan if you can't pay the full amount at\", 'COAST PROFESSIONAL, INC.', 'this time.', 'PO BOX 425', 'You can visit www.irs.gov/payments for more information about ways to pay. If paying', 'GENESEO, NY 14454', 'by check or money order, make the check or money order payable to the United States', '888-928-0510', 'Treasury. Include your employer identification number (EIN), tax period, and form', 'number on your payment and send it to the address on this notice. These are the only', \"forms of payment the IRS accepts. We'll never ask you to pay using any form of pre-\", 'paid card or store or online gift card.', 'The private collection agency is required to maintain the security and privacy of your', 'tax information. To do this, it will ask you to provide your name and address of record', 'before assisting you in resolving your account. Also, it will perform two-party', 'verification by asking you for the first five numbers of your taxpayer authentication', 'number at the top of this notice. The private collection agency will then provide the', 'subsequent five numbers.', \"Keep this notice for your records. You'll need information from it to complete the\", 'two-party verification.', 'See the enclosed Publication 4518, What You Can Expect When the IRS Assigns Your', 'Account to a Private Collection Agency, for more information.', 'Additional information', 'Visit www.irs.gov/cp140', 'You can also find the following online:', 'Publication 1, Your Rights as a Taxpayer', 'For tax forms or publications, visit www.irs.gov/forms-pubs or call', '800-TAX-FORM (800-829-3676).']\n",
            "Original String : ['Notice', 'CP140', 'Department of the Treasury', 'Internal Revenue Service', 'Notice date', 'November 21, 2022', 'Kansas City, MO 64999-0010', 'Employer ID number', 'XX-XXX8584', 'IRS', 'Tax form', '941', 'Tax period', 'June 30, 2020', 'Taxpayer', '6399084080', '001398.275781.40507.20660 1 AB 0.491 371', 'authentication number', 'To contact us', 'Phone 844-875-3420', 'Page 1 of 1', 'DESSS INC', '26611 MAJESTIC RIDGE LN', 'KATY TX 77494-7357', '001398', 'We assigned your overdue tax account to a private collection agency', 'Current law requires us to contract with qualified', 'What happens next', 'private collection agencies to assist in collecting', 'certain overdue federal taxes. We have assigned', 'The private collection agency will work with you to resolve your overdue account. The', 'your account to the following agency:', 'private collection agency will explain payment options to help you find one that is best', \"for you. It also will provide you with a payment plan if you can't pay the full amount at\", 'COAST PROFESSIONAL, INC.', 'this time.', 'PO BOX 425', 'You can visit www.irs.gov/payments for more information about ways to pay. If paying', 'GENESEO, NY 14454', 'by check or money order, make the check or money order payable to the United States', '888-928-0510', 'Treasury. Include your employer identification number (EIN), tax period, and form', 'number on your payment and send it to the address on this notice. These are the only', \"forms of payment the IRS accepts. We'll never ask you to pay using any form of pre-\", 'paid card or store or online gift card.', 'The private collection agency is required to maintain the security and privacy of your', 'tax information. To do this, it will ask you to provide your name and address of record', 'before assisting you in resolving your account. Also, it will perform two-party', 'verification by asking you for the first five numbers of your taxpayer authentication', 'number at the top of this notice. The private collection agency will then provide the', 'subsequent five numbers.', \"Keep this notice for your records. You'll need information from it to complete the\", 'two-party verification.', 'See the enclosed Publication 4518, What You Can Expect When the IRS Assigns Your', 'Account to a Private Collection Agency, for more information.', 'Additional information', 'Visit www.irs.gov/cp140', 'You can also find the following online:', 'Publication 1, Your Rights as a Taxpayer', 'For tax forms or publications, visit www.irs.gov/forms-pubs or call', '800-TAX-FORM (800-829-3676).']\n",
            "Resultant list is : Notice, CP140, Department of the Treasury, Internal Revenue Service, Notice date, November 21, 2022, Kansas City, MO 64999-0010, Employer ID number, XX-XXX8584, IRS, Tax form, 941, Tax period, June 30, 2020, Taxpayer, 6399084080, 001398.275781.40507.20660 1 AB 0.491 371, authentication number, To contact us, Phone 844-875-3420, Page 1 of 1, DESSS INC, 26611 MAJESTIC RIDGE LN, KATY TX 77494-7357, 001398, We assigned your overdue tax account to a private collection agency, Current law requires us to contract with qualified, What happens next, private collection agencies to assist in collecting, certain overdue federal taxes. We have assigned, The private collection agency will work with you to resolve your overdue account. The, your account to the following agency:, private collection agency will explain payment options to help you find one that is best, \"for you. It also will provide you with a payment plan if you cant pay the full amount at\", COAST PROFESSIONAL, INC., this time., PO BOX 425, You can visit www.irs.gov/payments for more information about ways to pay. If paying, GENESEO, NY 14454, by check or money order, make the check or money order payable to the United States, 888-928-0510, Treasury. Include your employer identification number (EIN), tax period, and form, number on your payment and send it to the address on this notice. These are the only, \"forms of payment the IRS accepts. Well never ask you to pay using any form of pre-\", paid card or store or online gift card., The private collection agency is required to maintain the security and privacy of your, tax information. To do this, it will ask you to provide your name and address of record, before assisting you in resolving your account. Also, it will perform two-party, verification by asking you for the first five numbers of your taxpayer authentication, number at the top of this notice. The private collection agency will then provide the, subsequent five numbers., \"Keep this notice for your records. Youll need information from it to complete the\", two-party verification., See the enclosed Publication 4518, What You Can Expect When the IRS Assigns Your, Account to a Private Collection Agency, for more information., Additional information, Visit www.irs.gov/cp140, You can also find the following online:, Publication 1, Your Rights as a Taxpayer, For tax forms or publications, visit www.irs.gov/forms-pubs or call, 800-TAX-FORM (800-829-3676).\n",
            "Notice, CP140, Department of the Treasury, Internal Revenue Service, Notice date, November 21, 2022, Kansas City, MO 64999-0010, Employer ID number, XX-XXX8584, IRS, Tax form, 941, Tax period, June 30, 2020, Taxpayer, 6399084080, 001398.275781.40507.20660 1 AB 0.491 371, authentication number, To contact us, Phone 844-875-3420, Page 1 of 1, DESSS INC, 26611 MAJESTIC RIDGE LN, KATY TX 77494-7357, 001398, We assigned your overdue tax account to a private collection agency, Current law requires us to contract with qualified, What happens next, private collection agencies to assist in collecting, certain overdue federal taxes. We have assigned, The private collection agency will work with you to resolve your overdue account. The, your account to the following agency:, private collection agency will explain payment options to help you find one that is best, \"for you. It also will provide you with a payment plan if you cant pay the full amount at\", COAST PROFESSIONAL, INC., this time., PO BOX 425, You can visit www.irs.gov/payments for more information about ways to pay. If paying, GENESEO, NY 14454, by check or money order, make the check or money order payable to the United States, 888-928-0510, Treasury. Include your employer identification number (EIN), tax period, and form, number on your payment and send it to the address on this notice. These are the only, \"forms of payment the IRS accepts. Well never ask you to pay using any form of pre-\", paid card or store or online gift card., The private collection agency is required to maintain the security and privacy of your, tax information. To do this, it will ask you to provide your name and address of record, before assisting you in resolving your account. Also, it will perform two-party, verification by asking you for the first five numbers of your taxpayer authentication, number at the top of this notice. The private collection agency will then provide the, subsequent five numbers., \"Keep this notice for your records. Youll need information from it to complete the\", two-party verification., See the enclosed Publication 4518, What You Can Expect When the IRS Assigns Your, Account to a Private Collection Agency, for more information., Additional information, Visit www.irs.gov/cp140, You can also find the following online:, Publication 1, Your Rights as a Taxpayer, For tax forms or publications, visit www.irs.gov/forms-pubs or call, 800-TAX-FORM (800-829-3676).\n",
            "['Notice', ' CP140', ' Department of the Treasury', ' Internal Revenue Service', ' Notice date', ' November 21', ' 2022', ' Kansas City', ' MO 64999-0010', ' Employer ID number', ' XX-XXX8584', ' IRS', ' Tax form', ' 941', ' Tax period', ' June 30', ' 2020', ' Taxpayer', ' 6399084080', ' 001398.275781.40507.20660 1 AB 0.491 371', ' authentication number', ' To contact us', ' Phone 844-875-3420', ' Page 1 of 1', ' DESSS INC', ' 26611 MAJESTIC RIDGE LN', ' KATY TX 77494-7357', ' 001398', ' We assigned your overdue tax account to a private collection agency', ' Current law requires us to contract with qualified', ' What happens next', ' private collection agencies to assist in collecting', ' certain overdue federal taxes. We have assigned', ' The private collection agency will work with you to resolve your overdue account. The', ' your account to the following agency:', ' private collection agency will explain payment options to help you find one that is best', ' \"for you. It also will provide you with a payment plan if you cant pay the full amount at\"', ' COAST PROFESSIONAL', ' INC.', ' this time.', ' PO BOX 425', ' You can visit www.irs.gov/payments for more information about ways to pay. If paying', ' GENESEO', ' NY 14454', ' by check or money order', ' make the check or money order payable to the United States', ' 888-928-0510', ' Treasury. Include your employer identification number (EIN)', ' tax period', ' and form', ' number on your payment and send it to the address on this notice. These are the only', ' \"forms of payment the IRS accepts. Well never ask you to pay using any form of pre-\"', ' paid card or store or online gift card.', ' The private collection agency is required to maintain the security and privacy of your', ' tax information. To do this', ' it will ask you to provide your name and address of record', ' before assisting you in resolving your account. Also', ' it will perform two-party', ' verification by asking you for the first five numbers of your taxpayer authentication', ' number at the top of this notice. The private collection agency will then provide the', ' subsequent five numbers.', ' \"Keep this notice for your records. Youll need information from it to complete the\"', ' two-party verification.', ' See the enclosed Publication 4518', ' What You Can Expect When the IRS Assigns Your', ' Account to a Private Collection Agency', ' for more information.', ' Additional information', ' Visit www.irs.gov/cp140', ' You can also find the following online:', ' Publication 1', ' Your Rights as a Taxpayer', ' For tax forms or publications', ' visit www.irs.gov/forms-pubs or call', ' 800-TAX-FORM (800-829-3676).']\n"
          ]
        }
      ]
    },
    {
      "cell_type": "code",
      "source": [
        "import pandas as pd\n",
        "\n",
        "# reading the csv file\n",
        "df = pd.read_csv(\"text.csv\")\n",
        "#print(df)\n",
        "var = df['Text']\n",
        "var\n",
        "required_data = []\n",
        "print(var)\n",
        "for x in var:\n",
        "  print(x)\n",
        "  # initializing bad_chars_list\n",
        "  bad_chars = ['[', ']', \"'\", \"'\"]\n",
        "  # printing original string\n",
        "  #print(\"Original String : \" + x)\n",
        "  # remove bad_chars\n",
        "  test_string = ''.join((filter(lambda i: i not in bad_chars, x)))\n",
        "  # printing resultant string\n",
        "  #print(\"Resultant list is : \" + str(test_string))\n",
        "  print(str(test_string))\n",
        "  required_data.append(str(test_string))\n",
        "print(required_data)\n"
      ],
      "metadata": {
        "id": "QzASSWh5KbvA",
        "outputId": "495caa70-55f1-4e28-ec83-c48349dc7e77",
        "colab": {
          "base_uri": "https://localhost:8080/"
        }
      },
      "execution_count": null,
      "outputs": [
        {
          "output_type": "stream",
          "name": "stdout",
          "text": [
            "0    ['Notice', 'CP140', 'Department of the Treasur...\n",
            "1    ['Notice', 'CP140', 'Department of the Treasur...\n",
            "Name: Text, dtype: object\n",
            "['Notice', 'CP140', 'Department of the Treasury', 'Internal Revenue Service', 'Notice date', 'November 21, 2022', 'Kansas City, MO 64999-0010', 'Employer ID number', 'XX-XXX8584', 'IRS', 'Tax form', '941', 'Tax period', 'June 30, 2020', 'Taxpayer', '6399084080', '001398.275781.40507.20660 1 AB 0.491 371', 'authentication number', 'To contact us', 'Phone 844-875-3420', 'Page 1 of 1', 'DESSS INC', '26611 MAJESTIC RIDGE LN', 'KATY TX 77494-7357', '001398', 'We assigned your overdue tax account to a private collection agency', 'Current law requires us to contract with qualified', 'What happens next', 'private collection agencies to assist in collecting', 'certain overdue federal taxes. We have assigned', 'The private collection agency will work with you to resolve your overdue account. The', 'your account to the following agency:', 'private collection agency will explain payment options to help you find one that is best', \"for you. It also will provide you with a payment plan if you can't pay the full amount at\", 'COAST PROFESSIONAL, INC.', 'this time.', 'PO BOX 425', 'You can visit www.irs.gov/payments for more information about ways to pay. If paying', 'GENESEO, NY 14454', 'by check or money order, make the check or money order payable to the United States', '888-928-0510', 'Treasury. Include your employer identification number (EIN), tax period, and form', 'number on your payment and send it to the address on this notice. These are the only', \"forms of payment the IRS accepts. We'll never ask you to pay using any form of pre-\", 'paid card or store or online gift card.', 'The private collection agency is required to maintain the security and privacy of your', 'tax information. To do this, it will ask you to provide your name and address of record', 'before assisting you in resolving your account. Also, it will perform two-party', 'verification by asking you for the first five numbers of your taxpayer authentication', 'number at the top of this notice. The private collection agency will then provide the', 'subsequent five numbers.', \"Keep this notice for your records. You'll need information from it to complete the\", 'two-party verification.', 'See the enclosed Publication 4518, What You Can Expect When the IRS Assigns Your', 'Account to a Private Collection Agency, for more information.', 'Additional information', 'Visit www.irs.gov/cp140', 'You can also find the following online:', 'Publication 1, Your Rights as a Taxpayer', 'For tax forms or publications, visit www.irs.gov/forms-pubs or call', '800-TAX-FORM (800-829-3676).']\n",
            "Notice, CP140, Department of the Treasury, Internal Revenue Service, Notice date, November 21, 2022, Kansas City, MO 64999-0010, Employer ID number, XX-XXX8584, IRS, Tax form, 941, Tax period, June 30, 2020, Taxpayer, 6399084080, 001398.275781.40507.20660 1 AB 0.491 371, authentication number, To contact us, Phone 844-875-3420, Page 1 of 1, DESSS INC, 26611 MAJESTIC RIDGE LN, KATY TX 77494-7357, 001398, We assigned your overdue tax account to a private collection agency, Current law requires us to contract with qualified, What happens next, private collection agencies to assist in collecting, certain overdue federal taxes. We have assigned, The private collection agency will work with you to resolve your overdue account. The, your account to the following agency:, private collection agency will explain payment options to help you find one that is best, \"for you. It also will provide you with a payment plan if you cant pay the full amount at\", COAST PROFESSIONAL, INC., this time., PO BOX 425, You can visit www.irs.gov/payments for more information about ways to pay. If paying, GENESEO, NY 14454, by check or money order, make the check or money order payable to the United States, 888-928-0510, Treasury. Include your employer identification number (EIN), tax period, and form, number on your payment and send it to the address on this notice. These are the only, \"forms of payment the IRS accepts. Well never ask you to pay using any form of pre-\", paid card or store or online gift card., The private collection agency is required to maintain the security and privacy of your, tax information. To do this, it will ask you to provide your name and address of record, before assisting you in resolving your account. Also, it will perform two-party, verification by asking you for the first five numbers of your taxpayer authentication, number at the top of this notice. The private collection agency will then provide the, subsequent five numbers., \"Keep this notice for your records. Youll need information from it to complete the\", two-party verification., See the enclosed Publication 4518, What You Can Expect When the IRS Assigns Your, Account to a Private Collection Agency, for more information., Additional information, Visit www.irs.gov/cp140, You can also find the following online:, Publication 1, Your Rights as a Taxpayer, For tax forms or publications, visit www.irs.gov/forms-pubs or call, 800-TAX-FORM (800-829-3676).\n",
            "['Notice', 'CP140', 'Department of the Treasury', 'Internal Revenue Service', 'Notice date', 'November 21, 2022', 'Kansas City, MO 64999-0010', 'Employer ID number', 'XX-XXX8584', 'IRS', 'Tax form', '941', 'Tax period', 'June 30, 2020', 'Taxpayer', '6399084080', '001398.275781.40507.20660 1 AB 0.491 371', 'authentication number', 'To contact us', 'Phone 844-875-3420', 'Page 1 of 1', 'DESSS INC', '26611 MAJESTIC RIDGE LN', 'KATY TX 77494-7357', '001398', 'We assigned your overdue tax account to a private collection agency', 'Current law requires us to contract with qualified', 'What happens next', 'private collection agencies to assist in collecting', 'certain overdue federal taxes. We have assigned', 'The private collection agency will work with you to resolve your overdue account. The', 'your account to the following agency:', 'private collection agency will explain payment options to help you find one that is best', \"for you. It also will provide you with a payment plan if you can't pay the full amount at\", 'COAST PROFESSIONAL, INC.', 'this time.', 'PO BOX 425', 'You can visit www.irs.gov/payments for more information about ways to pay. If paying', 'GENESEO, NY 14454', 'by check or money order, make the check or money order payable to the United States', '888-928-0510', 'Treasury. Include your employer identification number (EIN), tax period, and form', 'number on your payment and send it to the address on this notice. These are the only', \"forms of payment the IRS accepts. We'll never ask you to pay using any form of pre-\", 'paid card or store or online gift card.', 'The private collection agency is required to maintain the security and privacy of your', 'tax information. To do this, it will ask you to provide your name and address of record', 'before assisting you in resolving your account. Also, it will perform two-party', 'verification by asking you for the first five numbers of your taxpayer authentication', 'number at the top of this notice. The private collection agency will then provide the', 'subsequent five numbers.', \"Keep this notice for your records. You'll need information from it to complete the\", 'two-party verification.', 'See the enclosed Publication 4518, What You Can Expect When the IRS Assigns Your', 'Account to a Private Collection Agency, for more information.', 'Additional information', 'Visit www.irs.gov/cp140', 'You can also find the following online:', 'Publication 1, Your Rights as a Taxpayer', 'For tax forms or publications, visit www.irs.gov/forms-pubs or call', '800-TAX-FORM (800-829-3676).']\n",
            "Notice, CP140, Department of the Treasury, Internal Revenue Service, Notice date, November 21, 2022, Kansas City, MO 64999-0010, Employer ID number, XX-XXX8584, IRS, Tax form, 941, Tax period, June 30, 2020, Taxpayer, 6399084080, 001398.275781.40507.20660 1 AB 0.491 371, authentication number, To contact us, Phone 844-875-3420, Page 1 of 1, DESSS INC, 26611 MAJESTIC RIDGE LN, KATY TX 77494-7357, 001398, We assigned your overdue tax account to a private collection agency, Current law requires us to contract with qualified, What happens next, private collection agencies to assist in collecting, certain overdue federal taxes. We have assigned, The private collection agency will work with you to resolve your overdue account. The, your account to the following agency:, private collection agency will explain payment options to help you find one that is best, \"for you. It also will provide you with a payment plan if you cant pay the full amount at\", COAST PROFESSIONAL, INC., this time., PO BOX 425, You can visit www.irs.gov/payments for more information about ways to pay. If paying, GENESEO, NY 14454, by check or money order, make the check or money order payable to the United States, 888-928-0510, Treasury. Include your employer identification number (EIN), tax period, and form, number on your payment and send it to the address on this notice. These are the only, \"forms of payment the IRS accepts. Well never ask you to pay using any form of pre-\", paid card or store or online gift card., The private collection agency is required to maintain the security and privacy of your, tax information. To do this, it will ask you to provide your name and address of record, before assisting you in resolving your account. Also, it will perform two-party, verification by asking you for the first five numbers of your taxpayer authentication, number at the top of this notice. The private collection agency will then provide the, subsequent five numbers., \"Keep this notice for your records. Youll need information from it to complete the\", two-party verification., See the enclosed Publication 4518, What You Can Expect When the IRS Assigns Your, Account to a Private Collection Agency, for more information., Additional information, Visit www.irs.gov/cp140, You can also find the following online:, Publication 1, Your Rights as a Taxpayer, For tax forms or publications, visit www.irs.gov/forms-pubs or call, 800-TAX-FORM (800-829-3676).\n",
            "['Notice, CP140, Department of the Treasury, Internal Revenue Service, Notice date, November 21, 2022, Kansas City, MO 64999-0010, Employer ID number, XX-XXX8584, IRS, Tax form, 941, Tax period, June 30, 2020, Taxpayer, 6399084080, 001398.275781.40507.20660 1 AB 0.491 371, authentication number, To contact us, Phone 844-875-3420, Page 1 of 1, DESSS INC, 26611 MAJESTIC RIDGE LN, KATY TX 77494-7357, 001398, We assigned your overdue tax account to a private collection agency, Current law requires us to contract with qualified, What happens next, private collection agencies to assist in collecting, certain overdue federal taxes. We have assigned, The private collection agency will work with you to resolve your overdue account. The, your account to the following agency:, private collection agency will explain payment options to help you find one that is best, \"for you. It also will provide you with a payment plan if you cant pay the full amount at\", COAST PROFESSIONAL, INC., this time., PO BOX 425, You can visit www.irs.gov/payments for more information about ways to pay. If paying, GENESEO, NY 14454, by check or money order, make the check or money order payable to the United States, 888-928-0510, Treasury. Include your employer identification number (EIN), tax period, and form, number on your payment and send it to the address on this notice. These are the only, \"forms of payment the IRS accepts. Well never ask you to pay using any form of pre-\", paid card or store or online gift card., The private collection agency is required to maintain the security and privacy of your, tax information. To do this, it will ask you to provide your name and address of record, before assisting you in resolving your account. Also, it will perform two-party, verification by asking you for the first five numbers of your taxpayer authentication, number at the top of this notice. The private collection agency will then provide the, subsequent five numbers., \"Keep this notice for your records. Youll need information from it to complete the\", two-party verification., See the enclosed Publication 4518, What You Can Expect When the IRS Assigns Your, Account to a Private Collection Agency, for more information., Additional information, Visit www.irs.gov/cp140, You can also find the following online:, Publication 1, Your Rights as a Taxpayer, For tax forms or publications, visit www.irs.gov/forms-pubs or call, 800-TAX-FORM (800-829-3676).', 'Notice, CP140, Department of the Treasury, Internal Revenue Service, Notice date, November 21, 2022, Kansas City, MO 64999-0010, Employer ID number, XX-XXX8584, IRS, Tax form, 941, Tax period, June 30, 2020, Taxpayer, 6399084080, 001398.275781.40507.20660 1 AB 0.491 371, authentication number, To contact us, Phone 844-875-3420, Page 1 of 1, DESSS INC, 26611 MAJESTIC RIDGE LN, KATY TX 77494-7357, 001398, We assigned your overdue tax account to a private collection agency, Current law requires us to contract with qualified, What happens next, private collection agencies to assist in collecting, certain overdue federal taxes. We have assigned, The private collection agency will work with you to resolve your overdue account. The, your account to the following agency:, private collection agency will explain payment options to help you find one that is best, \"for you. It also will provide you with a payment plan if you cant pay the full amount at\", COAST PROFESSIONAL, INC., this time., PO BOX 425, You can visit www.irs.gov/payments for more information about ways to pay. If paying, GENESEO, NY 14454, by check or money order, make the check or money order payable to the United States, 888-928-0510, Treasury. Include your employer identification number (EIN), tax period, and form, number on your payment and send it to the address on this notice. These are the only, \"forms of payment the IRS accepts. Well never ask you to pay using any form of pre-\", paid card or store or online gift card., The private collection agency is required to maintain the security and privacy of your, tax information. To do this, it will ask you to provide your name and address of record, before assisting you in resolving your account. Also, it will perform two-party, verification by asking you for the first five numbers of your taxpayer authentication, number at the top of this notice. The private collection agency will then provide the, subsequent five numbers., \"Keep this notice for your records. Youll need information from it to complete the\", two-party verification., See the enclosed Publication 4518, What You Can Expect When the IRS Assigns Your, Account to a Private Collection Agency, for more information., Additional information, Visit www.irs.gov/cp140, You can also find the following online:, Publication 1, Your Rights as a Taxpayer, For tax forms or publications, visit www.irs.gov/forms-pubs or call, 800-TAX-FORM (800-829-3676).']\n"
          ]
        }
      ]
    },
    {
      "cell_type": "code",
      "source": [
        "import pandas as pd\n",
        "\n",
        "# reading the csv file\n",
        "df = pd.read_csv(\"test.csv\")\n",
        "#print(df)\n",
        "var = df['Text']\n",
        "var\n",
        "required_data = []\n",
        "print(var)\n",
        "for x in var:\n",
        "  print(x)\n",
        "  # initializing bad_chars_list\n",
        "  bad_chars = ['[', ']', \"'\", \"'\"]\n",
        "  # printing original string\n",
        "  #print(\"Original String : \" + x)\n",
        "  # remove bad_chars\n",
        "  test_string = ''.join((filter(lambda i: i not in bad_chars, x)))\n",
        "  # printing resultant string\n",
        "  #print(\"Resultant list is : \" + str(test_string))\n",
        "  print(str(test_string))\n",
        "  required_data.append(str(test_string))\n",
        "print(required_data)\n",
        "bad_chars = ['[', ']', \"'\", \"'\"]\n",
        "# printing original string\n",
        "# remove bad_chars\n",
        "changing_string = ''.join((filter(lambda i: i not in bad_chars, required_data)))\n",
        "print(changing_string)"
      ],
      "metadata": {
        "id": "V-OcMVjULr-7",
        "outputId": "13b2c53a-a375-4a88-b5cb-5b68694070bc",
        "colab": {
          "base_uri": "https://localhost:8080/"
        }
      },
      "execution_count": null,
      "outputs": [
        {
          "output_type": "stream",
          "name": "stdout",
          "text": [
            "0    ['Notice', 'CP140',']\n",
            "1     ['Notice', 'CP140',]\n",
            "Name: Text, dtype: object\n",
            "['Notice', 'CP140',']\n",
            "Notice, CP140,\n",
            "['Notice', 'CP140',]\n",
            "Notice, CP140,\n",
            "['Notice, CP140,', 'Notice, CP140,']\n",
            "Notice, CP140,Notice, CP140,\n"
          ]
        }
      ]
    }
  ]
}